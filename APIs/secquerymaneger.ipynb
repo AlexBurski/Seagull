{
 "cells": [
  {
   "cell_type": "code",
   "execution_count": 57,
   "id": "a1f62c7f-f73f-4744-b8ff-ea1fad9f5cfa",
   "metadata": {
    "editable": true,
    "slideshow": {
     "slide_type": ""
    },
    "tags": []
   },
   "outputs": [
    {
     "name": "stdout",
     "output_type": "stream",
     "text": [
      "{\n",
      "  \"origin\": \"10.0.0.217, 44.223.70.9\"\n",
      "}\n",
      "\n",
      "b'<!DOCTYPE html PUBLIC \"-//W3C//DTD XHTML 1.0 Transitional//EN\" \"http://www.w3.org/TR/xhtml1/DTD/xhtml1-transitional.dtd\">\\n<html xmlns=\"http://www.w3.org/1999/xhtml\">\\n<head>\\n<meta http-equiv=\"Content-Type\" content=\"text/html; charset=UTF-8\" />\\n<title>SEC.gov | Request Rate Threshold Exceeded</title>\\n<style>\\nhtml {height: 100%}\\nbody {height: 100%; margin:0; padding:0;}\\n#header {background-color:#003968; color:#fff; padding:15px 20px 10px 20px;font-family:Arial, Helvetica, sans-serif; font-size:20px; border-bottom:solid 5px #000;}\\n#footer {background-color:#003968; color:#fff; padding:15px 20px;font-family:Arial, Helvetica, sans-serif; font-size:20px;}\\n#content {max-width:650px;margin:60px auto; padding:0 20px 100px 20px; background-image:url(seal_bw.png);background-repeat:no-repeat;background-position:50% 100%;}\\nh1 {font-family:Georgia, Times, serif; font-size:20px;}\\nh2 {text-align:center; font-family:Georgia, Times, serif; font-size:20px; width:100%; border-bottom:solid #999 1px;padding-bottom:10px; margin-bottom:20px;}\\nh3 {font-family:Georgia, Times, serif; font-size:16px; margin:25px 0 0 0;}\\np {font-family:Verdana, Geneva, sans-serif;font-size:14px;line-height:1.3;}\\n.grey_box {background-color:#eee; padding:5px 40px 20px 40px;margin-top:75px;}\\n.grey_box p {font-size:12px;line-height:1.5}\\n.note {padding: 0 40px; font-style: italic;}\\n</style>\\n</head>\\n\\n<body>\\n<div id=\"header\">U.S. Securities and Exchange Commission</div>\\n<div id=\"content\">\\n<h1>Your Request Originates from an Undeclared Automated Tool</h1>\\n<p>To allow for equitable access to all users, SEC reserves the right to limit requests originating from undeclared automated tools. Your request has been identified as part of a network of automated tools outside of the acceptable policy and will be managed until action is taken to declare your traffic.</p>\\n\\n<p>Please declare your traffic by updating your user agent to include company specific information.</p>\\n\\n\\n<p>For best practices on efficiently downloading information from SEC.gov, including the latest EDGAR filings, visit <a href=\"https://www.sec.gov/developer\" target=\"_blank\">sec.gov/developer</a>. You can also <a href=\"https://public.govdelivery.com/accounts/USSEC/subscriber/new?topic_id=USSEC_260\" target=\"_blank\">sign up for email updates</a> on the SEC open data program, including best practices that make it more efficient to download data, and SEC.gov enhancements that may impact scripted downloading processes. For more information, contact <a href=\"mailto:opendata@sec.gov\">opendata@sec.gov</a>.</p>\\n\\n<p>For more information, please see the SEC\\xe2\\x80\\x99s <a href=\"#internet\">Web Site Privacy and Security Policy</a>. Thank you for your interest in the U.S. Securities and Exchange Commission.\\n<p>Reference ID: 0.cf643017.1713978039.35f5397</p>\\n<div class=\"grey_box\">\\n<h2>More Information</h2>\\n<h3><a name=\"internet\">Internet Security Policy</a></h3>\\n\\n<p>By using this site, you are agreeing to security monitoring and auditing. For security purposes, and to ensure that the public service remains available to users, this government computer system employs programs to monitor network traffic to identify unauthorized attempts to upload or change information or to otherwise cause damage, including attempts to deny service to users.</p>\\n\\n<p>Unauthorized attempts to upload information and/or change information on any portion of this site are strictly prohibited and are subject to prosecution under the Computer Fraud and Abuse Act of 1986 and the National Information Infrastructure Protection Act of 1996 (see Title 18 U.S.C. \\xc2\\xa7\\xc2\\xa7 1001 and 1030).</p>\\n\\n<p>To ensure our website performs well for all users, the SEC monitors the frequency of requests for SEC.gov content to ensure automated searches do not impact the ability of others to access SEC.gov content. We reserve the right to block IP addresses that submit excessive requests.  Current guidelines limit users to a total of no more than 10 requests per second, regardless of the number of machines used to submit requests. </p>\\n\\n<p>If a user or application submits more than 10 requests per second, further requests from the IP address(es) may be limited for a brief period. Once the rate of requests has dropped below the threshold for 10 minutes, the user may resume accessing content on SEC.gov. This SEC practice is designed to limit excessive automated searches on SEC.gov and is not intended or expected to impact individuals browsing the SEC.gov website. </p>\\n\\n<p>Note that this policy may change as the SEC manages SEC.gov to ensure that the website performs efficiently and remains available to all users.</p>\\n</div>\\n<br>\\n<p class=\"note\"><b>Note:</b> We do not offer technical support for developing or debugging scripted downloading processes.</P>\\n</div>\\n</body>\\n</html>\\n'\n"
     ]
    }
   ],
   "source": [
    "import requests\n",
    "import zlib\n",
    "#def queryprep(name,)\n",
    "import requests\n",
    "\n",
    "def get_tor_session():\n",
    "    session = requests.session()\n",
    "    # Tor uses the 9050 port as the default socks port\n",
    "    session.proxies = {'http':  'socks5://127.0.0.1:9050',\n",
    "                       'https': 'socks5://127.0.0.1:9050'}\n",
    "    headers = {'User-Agent': 'compony name email',\n",
    "    'Accept-Encoding': 'deflate'}\n",
    "    \n",
    "    return session\n",
    "\n",
    "# Make a request through the Tor connection\n",
    "# IP visible through Tor\n",
    "session = get_tor_session()\n",
    "response = session.get('https://www.sec.gov/Archives/edgar/data/320193/000114036123023700/ny20007635x3_424b2.htm')# Above should print an IP different than your public IP\n",
    "\n",
    "# Following prints your normal public IP\n",
    "print(requests.get(\"http://httpbin.org/ip\").text)\n",
    "\n",
    "#response = requests.get('https://www.sec.gov/Archives/edgar/data/320193/000114036123023700/ny20007635x3_424b2.htm', headers=headers)\n",
    "\n",
    "if response.headers.get('Content-Encoding') == 'deflate':\n",
    "    data = zlib.decompress(response.content, -zlib.MAX_WBITS)\n",
    "else:\n",
    "    data = response.content\n",
    "print(data)"
   ]
  },
  {
   "cell_type": "code",
   "execution_count": 39,
   "id": "29ed0605-852f-409f-b256-70776461c9c2",
   "metadata": {},
   "outputs": [
    {
     "ename": "SocketError",
     "evalue": "[Errno 111] Connection refused",
     "output_type": "error",
     "traceback": [
      "\u001b[0;31m---------------------------------------------------------------------------\u001b[0m",
      "\u001b[0;31mConnectionRefusedError\u001b[0m                    Traceback (most recent call last)",
      "File \u001b[0;32m~/.local/lib/python3.11/site-packages/stem/socket.py:535\u001b[0m, in \u001b[0;36mControlPort._make_socket\u001b[0;34m(self)\u001b[0m\n\u001b[1;32m    534\u001b[0m control_socket \u001b[38;5;241m=\u001b[39m socket\u001b[38;5;241m.\u001b[39msocket(socket\u001b[38;5;241m.\u001b[39mAF_INET, socket\u001b[38;5;241m.\u001b[39mSOCK_STREAM)\n\u001b[0;32m--> 535\u001b[0m control_socket\u001b[38;5;241m.\u001b[39mconnect((\u001b[38;5;28mself\u001b[39m\u001b[38;5;241m.\u001b[39maddress, \u001b[38;5;28mself\u001b[39m\u001b[38;5;241m.\u001b[39mport))\n\u001b[1;32m    536\u001b[0m \u001b[38;5;28;01mreturn\u001b[39;00m control_socket\n",
      "\u001b[0;31mConnectionRefusedError\u001b[0m: [Errno 111] Connection refused",
      "\nDuring handling of the above exception, another exception occurred:\n",
      "\u001b[0;31mSocketError\u001b[0m                               Traceback (most recent call last)",
      "Cell \u001b[0;32mIn[39], line 9\u001b[0m\n\u001b[1;32m      5\u001b[0m \u001b[38;5;28;01mfrom\u001b[39;00m \u001b[38;5;21;01mstem\u001b[39;00m\u001b[38;5;21;01m.\u001b[39;00m\u001b[38;5;21;01mcontrol\u001b[39;00m \u001b[38;5;28;01mimport\u001b[39;00m Controller\n\u001b[1;32m      7\u001b[0m nbrOfIpAddresses\u001b[38;5;241m=\u001b[39m\u001b[38;5;241m3\u001b[39m\n\u001b[0;32m----> 9\u001b[0m \u001b[38;5;28;01mwith\u001b[39;00m Controller\u001b[38;5;241m.\u001b[39mfrom_port(port \u001b[38;5;241m=\u001b[39m \u001b[38;5;241m9051\u001b[39m) \u001b[38;5;28;01mas\u001b[39;00m controller:\n\u001b[1;32m     10\u001b[0m    controller\u001b[38;5;241m.\u001b[39mauthenticate(password \u001b[38;5;241m=\u001b[39m \u001b[38;5;124m'\u001b[39m\u001b[38;5;124mmy_pwd\u001b[39m\u001b[38;5;124m'\u001b[39m)\n\u001b[1;32m     11\u001b[0m    socks\u001b[38;5;241m.\u001b[39msetdefaultproxy(socks\u001b[38;5;241m.\u001b[39mPROXY_TYPE_SOCKS5, \u001b[38;5;124m\"\u001b[39m\u001b[38;5;124m127.0.0.1\u001b[39m\u001b[38;5;124m\"\u001b[39m, \u001b[38;5;241m9050\u001b[39m)\n",
      "File \u001b[0;32m~/.local/lib/python3.11/site-packages/stem/control.py:1033\u001b[0m, in \u001b[0;36mController.from_port\u001b[0;34m(address, port)\u001b[0m\n\u001b[1;32m   1031\u001b[0m   control_port \u001b[38;5;241m=\u001b[39m stem\u001b[38;5;241m.\u001b[39mconnection\u001b[38;5;241m.\u001b[39m_connection_for_default_port(address)\n\u001b[1;32m   1032\u001b[0m \u001b[38;5;28;01melse\u001b[39;00m:\n\u001b[0;32m-> 1033\u001b[0m   control_port \u001b[38;5;241m=\u001b[39m stem\u001b[38;5;241m.\u001b[39msocket\u001b[38;5;241m.\u001b[39mControlPort(address, port)\n\u001b[1;32m   1035\u001b[0m \u001b[38;5;28;01mreturn\u001b[39;00m Controller(control_port)\n",
      "File \u001b[0;32m~/.local/lib/python3.11/site-packages/stem/socket.py:503\u001b[0m, in \u001b[0;36mControlPort.__init__\u001b[0;34m(self, address, port, connect)\u001b[0m\n\u001b[1;32m    500\u001b[0m \u001b[38;5;28mself\u001b[39m\u001b[38;5;241m.\u001b[39mport \u001b[38;5;241m=\u001b[39m port\n\u001b[1;32m    502\u001b[0m \u001b[38;5;28;01mif\u001b[39;00m connect:\n\u001b[0;32m--> 503\u001b[0m   \u001b[38;5;28mself\u001b[39m\u001b[38;5;241m.\u001b[39mconnect()\n",
      "File \u001b[0;32m~/.local/lib/python3.11/site-packages/stem/socket.py:172\u001b[0m, in \u001b[0;36mBaseSocket.connect\u001b[0;34m(self)\u001b[0m\n\u001b[1;32m    169\u001b[0m   \u001b[38;5;28mself\u001b[39m\u001b[38;5;241m.\u001b[39mclose()\n\u001b[1;32m    171\u001b[0m \u001b[38;5;28;01mwith\u001b[39;00m \u001b[38;5;28mself\u001b[39m\u001b[38;5;241m.\u001b[39m_recv_lock:\n\u001b[0;32m--> 172\u001b[0m   \u001b[38;5;28mself\u001b[39m\u001b[38;5;241m.\u001b[39m_socket \u001b[38;5;241m=\u001b[39m \u001b[38;5;28mself\u001b[39m\u001b[38;5;241m.\u001b[39m_make_socket()\n\u001b[1;32m    173\u001b[0m   \u001b[38;5;28mself\u001b[39m\u001b[38;5;241m.\u001b[39m_socket_file \u001b[38;5;241m=\u001b[39m \u001b[38;5;28mself\u001b[39m\u001b[38;5;241m.\u001b[39m_socket\u001b[38;5;241m.\u001b[39mmakefile(mode \u001b[38;5;241m=\u001b[39m \u001b[38;5;124m'\u001b[39m\u001b[38;5;124mrwb\u001b[39m\u001b[38;5;124m'\u001b[39m)\n\u001b[1;32m    174\u001b[0m   \u001b[38;5;28mself\u001b[39m\u001b[38;5;241m.\u001b[39m_is_alive \u001b[38;5;241m=\u001b[39m \u001b[38;5;28;01mTrue\u001b[39;00m\n",
      "File \u001b[0;32m~/.local/lib/python3.11/site-packages/stem/socket.py:538\u001b[0m, in \u001b[0;36mControlPort._make_socket\u001b[0;34m(self)\u001b[0m\n\u001b[1;32m    536\u001b[0m   \u001b[38;5;28;01mreturn\u001b[39;00m control_socket\n\u001b[1;32m    537\u001b[0m \u001b[38;5;28;01mexcept\u001b[39;00m socket\u001b[38;5;241m.\u001b[39merror \u001b[38;5;28;01mas\u001b[39;00m exc:\n\u001b[0;32m--> 538\u001b[0m   \u001b[38;5;28;01mraise\u001b[39;00m stem\u001b[38;5;241m.\u001b[39mSocketError(exc)\n",
      "\u001b[0;31mSocketError\u001b[0m: [Errno 111] Connection refused"
     ]
    }
   ],
   "source": [
    "import time, socks, socket\n",
    "import urllib.request as urllib2 \n",
    "from urllib.request import urlopen\n",
    "from stem import Signal\n",
    "from stem.control import Controller\n",
    "\n",
    "nbrOfIpAddresses=3\n",
    "\n",
    "with Controller.from_port(port = 9051) as controller:\n",
    "   controller.authenticate(password = 'my_pwd')\n",
    "   socks.setdefaultproxy(socks.PROXY_TYPE_SOCKS5, \"127.0.0.1\", 9050)\n",
    "   socket.socket = socks.socksocket   \n",
    "\n",
    "   for i in range(0, nbrOfIpAddresses):\n",
    "       newIP=urlopen(\"http://icanhazip.com\").read()\n",
    "       print(\"NewIP Address: %s\" % newIP)\n",
    "       controller.signal(Signal.NEWNYM)\n",
    "       if controller.is_newnym_available() == False:\n",
    "        print(\"Waitting time for Tor to change IP: \"+ str(controller.get_newnym_wait()) +\" seconds\")\n",
    "        time.sleep(controller.get_newnym_wait())\n",
    "   controller.close()"
   ]
  },
  {
   "cell_type": "code",
   "execution_count": null,
   "id": "e45c07ba-1e44-47bb-aa4a-a40b9d691ae3",
   "metadata": {},
   "outputs": [],
   "source": []
  },
  {
   "cell_type": "code",
   "execution_count": null,
   "id": "23ea5e41-294e-41ee-89a3-7cb035bea47f",
   "metadata": {},
   "outputs": [],
   "source": []
  }
 ],
 "metadata": {
  "kernelspec": {
   "display_name": "anaconda-panel-2023.05-py310",
   "language": "python",
   "name": "conda-env-anaconda-panel-2023.05-py310-py"
  },
  "language_info": {
   "codemirror_mode": {
    "name": "ipython",
    "version": 3
   },
   "file_extension": ".py",
   "mimetype": "text/x-python",
   "name": "python",
   "nbconvert_exporter": "python",
   "pygments_lexer": "ipython3",
   "version": "3.11.5"
  },
  "widgets": {
   "application/vnd.jupyter.widget-state+json": {
    "state": {},
    "version_major": 2,
    "version_minor": 0
   }
  }
 },
 "nbformat": 4,
 "nbformat_minor": 5
}
